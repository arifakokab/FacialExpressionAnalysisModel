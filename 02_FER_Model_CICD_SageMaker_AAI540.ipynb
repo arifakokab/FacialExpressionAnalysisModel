{
 "cells": [
  {
   "cell_type": "markdown",
   "metadata": {
    "id": "gJFduKcoEQ2e"
   },
   "source": [
    "---\n",
    "**Author:** Arifa Kokab  \n",
    "**For:** AAI-540 Machine Learning Operations  \n",
    "**Institution:** University of San Diego"
   ]
  },
  {
   "cell_type": "markdown",
   "metadata": {
    "id": "sFVGyWOHEbck"
   },
   "source": [
    "# Automated Model Registration and Governance Pipeline for Facial Expression Analysis (FER+ & RAF-DB) – MobileNetV2\n",
    "\n",
    "## Introduction\n",
    "\n",
    "This notebook demonstrates a fully automated approach to model registration, documentation, and governance for a facial expression analysis system based on the MobileNetV2 architecture. The model is trained on the FER+ and RAF-DB datasets to classify emotions from facial images for neuromarketing applications.\n",
    "\n",
    "Following best practices in MLOps, this workflow uses AWS SageMaker’s Model Registry and Model Card features, automating:\n",
    "\n",
    "- **Creation of a Model Package Group** to manage model versions\n",
    "- **Registration of a new Model Package** with reproducible metadata\n",
    "- **Generation and approval of a Model Card** for transparent documentation\n",
    "\n",
    "By scripting these steps, we satisfy core **CI/CD (Continuous Integration/Continuous Deployment) requirements** for ML systems: enabling reproducible, auditable, and fully automated model lifecycle management. This ensures that each new version of the model is registered and documented in a consistent, scalable, and production-ready manner."
   ]
  },
  {
   "cell_type": "markdown",
   "metadata": {
    "id": "0dZKeaVrEeLT"
   },
   "source": [
    "## 1. Environment and SageMaker Client Setup\n",
    "\n",
    "This section initializes the required libraries and sets up the SageMaker Boto3 client for automating model registration and documentation."
   ]
  },
  {
   "cell_type": "code",
   "execution_count": 1,
   "metadata": {
    "execution": {
     "iopub.execute_input": "2025-06-26T02:34:19.992589Z",
     "iopub.status.busy": "2025-06-26T02:34:19.992289Z",
     "iopub.status.idle": "2025-06-26T02:34:20.184490Z",
     "shell.execute_reply": "2025-06-26T02:34:20.183893Z",
     "shell.execute_reply.started": "2025-06-26T02:34:19.992567Z"
    },
    "id": "iiEtOzg2ABAr"
   },
   "outputs": [],
   "source": [
    "import boto3\n",
    "import json\n",
    "\n",
    "client = boto3.client(\"sagemaker\")"
   ]
  },
  {
   "cell_type": "markdown",
   "metadata": {
    "id": "ql0hgBhCEoEJ"
   },
   "source": [
    "## 2. Create and Describe Model Package Group\n",
    "\n",
    "We first create a Model Package Group in SageMaker Model Registry. This group organizes all versions of our facial expression analysis models for tracking and lifecycle management."
   ]
  },
  {
   "cell_type": "code",
   "execution_count": 2,
   "metadata": {
    "execution": {
     "iopub.execute_input": "2025-06-26T02:34:38.841979Z",
     "iopub.status.busy": "2025-06-26T02:34:38.841151Z",
     "iopub.status.idle": "2025-06-26T02:34:39.034400Z",
     "shell.execute_reply": "2025-06-26T02:34:39.033729Z",
     "shell.execute_reply.started": "2025-06-26T02:34:38.841937Z"
    },
    "id": "xsgJgqIbAMuQ"
   },
   "outputs": [
    {
     "name": "stdout",
     "output_type": "stream",
     "text": [
      "✓ Model Group created: FacialExpressionAnalysis-ModelGroup\n"
     ]
    }
   ],
   "source": [
    "model_group_name = \"FacialExpressionAnalysis-ModelGroup\"\n",
    "\n",
    "response = client.create_model_package_group(\n",
    "    ModelPackageGroupName=model_group_name,\n",
    "    ModelPackageGroupDescription=\"Model Group for Facial Expression Analysis - MobileNetV2\"\n",
    ")\n",
    "print(\"✓ Model Group created:\", model_group_name)"
   ]
  },
  {
   "cell_type": "code",
   "execution_count": 3,
   "metadata": {
    "execution": {
     "iopub.execute_input": "2025-06-26T02:34:42.414804Z",
     "iopub.status.busy": "2025-06-26T02:34:42.414480Z",
     "iopub.status.idle": "2025-06-26T02:34:42.460982Z",
     "shell.execute_reply": "2025-06-26T02:34:42.460365Z",
     "shell.execute_reply.started": "2025-06-26T02:34:42.414780Z"
    },
    "id": "rIXdQP0bAPvv"
   },
   "outputs": [
    {
     "name": "stdout",
     "output_type": "stream",
     "text": [
      "{'ModelPackageGroupName': 'FacialExpressionAnalysis-ModelGroup', 'ModelPackageGroupArn': 'arn:aws:sagemaker:us-east-1:301806113644:model-package-group/FacialExpressionAnalysis-ModelGroup', 'ModelPackageGroupDescription': 'Model Group for Facial Expression Analysis - MobileNetV2', 'CreationTime': datetime.datetime(2025, 6, 26, 2, 34, 38, 974000, tzinfo=tzlocal()), 'CreatedBy': {'UserProfileArn': 'arn:aws:sagemaker:us-east-1:301806113644:user-profile/d-5xmcc0ygmqtr/arifakokab', 'UserProfileName': 'arifakokab', 'DomainId': 'd-5xmcc0ygmqtr', 'IamIdentity': {'Arn': 'arn:aws:sts::301806113644:assumed-role/LabRole/SageMaker', 'PrincipalId': 'AROAUMRIL2NWJIEA5CLZN:SageMaker'}}, 'ModelPackageGroupStatus': 'Completed', 'ResponseMetadata': {'RequestId': '621dbd07-0d9e-4d94-98c5-260b2c004b67', 'HTTPStatusCode': 200, 'HTTPHeaders': {'x-amzn-requestid': '621dbd07-0d9e-4d94-98c5-260b2c004b67', 'content-type': 'application/x-amz-json-1.1', 'content-length': '646', 'date': 'Thu, 26 Jun 2025 02:34:42 GMT'}, 'RetryAttempts': 0}}\n"
     ]
    }
   ],
   "source": [
    "response = client.describe_model_package_group(ModelPackageGroupName=model_group_name)\n",
    "print(response)"
   ]
  },
  {
   "cell_type": "markdown",
   "metadata": {
    "id": "WV-ZogBwEvuR"
   },
   "source": [
    "## 3. Register a Model Package to the Model Group\n",
    "\n",
    "This section registers a new version of the trained MobileNetV2 model (with S3 path and container image) to the Model Package Group for deployment and production tracking."
   ]
  },
  {
   "cell_type": "code",
   "execution_count": 6,
   "metadata": {
    "execution": {
     "iopub.execute_input": "2025-06-26T02:40:23.131200Z",
     "iopub.status.busy": "2025-06-26T02:40:23.130840Z",
     "iopub.status.idle": "2025-06-26T02:40:23.556233Z",
     "shell.execute_reply": "2025-06-26T02:40:23.555562Z",
     "shell.execute_reply.started": "2025-06-26T02:40:23.131175Z"
    },
    "id": "ZJNrFVOKASVc"
   },
   "outputs": [
    {
     "name": "stdout",
     "output_type": "stream",
     "text": [
      "✓ Model Package registered.\n"
     ]
    }
   ],
   "source": [
    "# Define the container image URI and model artifact S3 URL\n",
    "container_image_uri = \"763104351884.dkr.ecr.us-east-1.amazonaws.com/pytorch-inference:1.9.1-cpu-py38\"\n",
    "model_data_url = \"s3://sagemaker-us-east-1-301806113644/FacialExpressionAnalysisFinal/model.tar.gz\"\n",
    "\n",
    "# Model package registration input\n",
    "model_package_input = {\n",
    "    \"ModelPackageGroupName\": model_group_name,\n",
    "    \"ModelPackageDescription\": \"Production-ready model for FER+ and RAF-DB emotion classification\",\n",
    "    \"InferenceSpecification\": {\n",
    "        \"Containers\": [\n",
    "            {\n",
    "                \"Image\": container_image_uri,\n",
    "                \"ModelDataUrl\": model_data_url\n",
    "            }\n",
    "        ],\n",
    "        \"SupportedContentTypes\": [\"application/x-image\"],\n",
    "        \"SupportedResponseMIMETypes\": [\"application/json\"]\n",
    "    },\n",
    "    \"ModelApprovalStatus\": \"Approved\"\n",
    "}\n",
    "\n",
    "response = client.create_model_package(**model_package_input)\n",
    "print(\"✓ Model Package registered.\")"
   ]
  },
  {
   "cell_type": "code",
   "execution_count": 7,
   "metadata": {
    "execution": {
     "iopub.execute_input": "2025-06-26T02:40:50.815277Z",
     "iopub.status.busy": "2025-06-26T02:40:50.814952Z",
     "iopub.status.idle": "2025-06-26T02:40:50.889333Z",
     "shell.execute_reply": "2025-06-26T02:40:50.888678Z",
     "shell.execute_reply.started": "2025-06-26T02:40:50.815254Z"
    },
    "id": "o3rnK8isATwb"
   },
   "outputs": [
    {
     "name": "stdout",
     "output_type": "stream",
     "text": [
      "✓ Model Package details:\n",
      "{'ModelPackageGroupName': 'FacialExpressionAnalysis-ModelGroup', 'ModelPackageVersion': 1, 'ModelPackageArn': 'arn:aws:sagemaker:us-east-1:301806113644:model-package/FacialExpressionAnalysis-ModelGroup/1', 'ModelPackageDescription': 'Production-ready model for FER+ and RAF-DB emotion classification', 'CreationTime': datetime.datetime(2025, 6, 26, 2, 40, 23, 530000, tzinfo=tzlocal()), 'InferenceSpecification': {'Containers': [{'Image': '763104351884.dkr.ecr.us-east-1.amazonaws.com/pytorch-inference:1.9.1-cpu-py38', 'ImageDigest': 'sha256:327d9112f93764b3d94edf7e2629d9a4d4dc410ccce0e7d8e3a8f4b4d9cdc91c', 'ModelDataUrl': 's3://sagemaker-us-east-1-301806113644/FacialExpressionAnalysisFinal/model.tar.gz', 'ModelDataETag': 'a3d508a38fdcb8d2ecc5992990707e09-2'}], 'SupportedContentTypes': ['application/x-image'], 'SupportedResponseMIMETypes': ['application/json']}, 'ModelPackageStatus': 'Completed', 'ModelPackageStatusDetails': {'ValidationStatuses': [], 'ImageScanStatuses': []}, 'CertifyForMarketplace': False, 'ModelApprovalStatus': 'Approved', 'CreatedBy': {'UserProfileArn': 'arn:aws:sagemaker:us-east-1:301806113644:user-profile/d-5xmcc0ygmqtr/arifakokab', 'UserProfileName': 'arifakokab', 'DomainId': 'd-5xmcc0ygmqtr', 'IamIdentity': {'Arn': 'arn:aws:sts::301806113644:assumed-role/LabRole/SageMaker', 'PrincipalId': 'AROAUMRIL2NWJIEA5CLZN:SageMaker'}}, 'ResponseMetadata': {'RequestId': '4fe568c0-23a6-4b5c-bf43-7494baf4cc1d', 'HTTPStatusCode': 200, 'HTTPHeaders': {'x-amzn-requestid': '4fe568c0-23a6-4b5c-bf43-7494baf4cc1d', 'content-type': 'application/x-amz-json-1.1', 'content-length': '1268', 'date': 'Thu, 26 Jun 2025 02:40:50 GMT'}, 'RetryAttempts': 0}}\n"
     ]
    }
   ],
   "source": [
    "# Save the Model Package ARN from the registration response\n",
    "model_package_arn = response['ModelPackageArn']\n",
    "\n",
    "# Describe the model package using its ARN\n",
    "describe_response = client.describe_model_package(ModelPackageName=model_package_arn)\n",
    "\n",
    "# Print the model package details\n",
    "print(\"✓ Model Package details:\")\n",
    "print(describe_response)"
   ]
  },
  {
   "cell_type": "markdown",
   "metadata": {
    "id": "1GNn-8V2E2LY"
   },
   "source": [
    "## 4. Create and Approve a Model Card\n",
    "\n",
    "This section creates a Model Card documenting the model's overview, training details, evaluation results, and links it to the registered model package for governance and auditability."
   ]
  },
  {
   "cell_type": "code",
   "execution_count": 9,
   "metadata": {
    "execution": {
     "iopub.execute_input": "2025-06-26T02:41:31.641662Z",
     "iopub.status.busy": "2025-06-26T02:41:31.641341Z",
     "iopub.status.idle": "2025-06-26T02:41:32.102856Z",
     "shell.execute_reply": "2025-06-26T02:41:32.102242Z",
     "shell.execute_reply.started": "2025-06-26T02:41:31.641639Z"
    },
    "id": "bZQC6V9kAVcG"
   },
   "outputs": [
    {
     "name": "stdout",
     "output_type": "stream",
     "text": [
      "✓ Model card created and linked to model package:\n",
      "ModelCardName: arn:aws:sagemaker:us-east-1:301806113644:model-card/FacialExpressionAnalysis-Card\n"
     ]
    }
   ],
   "source": [
    "# Define model card content\n",
    "model_card_content = {\n",
    "    \"model_overview\": {\n",
    "        \"model_description\": \"MobileNetV2 model trained to classify facial expressions into 7 emotions using FERPlus and RAF-DB datasets.\",\n",
    "        \"model_owner\": \"Arifa Kokab\",\n",
    "        \"problem_type\": \"Image Classification\",\n",
    "        \"algorithm_type\": \"Convolutional Neural Network\"\n",
    "    },\n",
    "    \"intended_uses\": {\n",
    "        \"intended_uses\": \"Neuromarketing teams will use this model to analyze emotional responses from facial expressions across video content.\"\n",
    "    },\n",
    "    \"training_details\": {\n",
    "        \"training_observations\": \"The model was trained using stratified and balanced data splits from FERPlus and RAF-DB. Image augmentation and class weights were used.\"\n",
    "    },\n",
    "    \"evaluation_details\": [\n",
    "        {\n",
    "            \"name\": \"Validation Accuracy\",\n",
    "            \"evaluation_job_arn\": \"arn:aws:sagemaker:us-east-1:301806113644:transform-job/facial-expression-eval-job\",\n",
    "            \"evaluation_observation\": \"Validation accuracy achieved 89.6% on combined FERPlus and RAF-DB validation set.\"\n",
    "        },\n",
    "        {\n",
    "            \"name\": \"Macro F1 Score\",\n",
    "            \"evaluation_job_arn\": \"arn:aws:sagemaker:us-east-1:301806113644:transform-job/facial-expression-eval-job\",\n",
    "            \"evaluation_observation\": \"Macro average F1 score was 0.831 as calculated using sklearn metrics.\"\n",
    "        }\n",
    "    ],\n",
    "    \"model_package_details\": {\n",
    "        \"model_package_group_name\": \"FacialExpressionAnalysisModelGroup\",\n",
    "        \"model_package_version\": 1\n",
    "    }\n",
    "}\n",
    "\n",
    "# Create the model card\n",
    "response = client.create_model_card(\n",
    "    ModelCardName=\"FacialExpressionAnalysis-Card\",\n",
    "    Content=json.dumps(model_card_content),\n",
    "    ModelCardStatus=\"Approved\"\n",
    ")\n",
    "\n",
    "print(\"✓ Model card created and linked to model package:\")\n",
    "print(\"ModelCardName:\", response[\"ModelCardArn\"])"
   ]
  },
  {
   "cell_type": "markdown",
   "metadata": {
    "id": "3n99p4qrFD99"
   },
   "source": [
    "---\n",
    "\n",
    "## Results: Model Registration and Model Card Creation\n",
    "\n",
    "- **Model Package Registered:**  \n",
    "  Model registered in SageMaker Model Registry under group `FacialExpressionAnalysis-ModelGroup` (Version 1).  \n",
    "  **ModelPackageArn:**  \n",
    "  `arn:aws:sagemaker:us-east-1:301806113644:model-package/FacialExpressionAnalysis-ModelGroup/1`\n",
    "\n",
    "- **Model Card Created:**  \n",
    "  Comprehensive model card generated and linked to the registered model package for documentation, compliance, and governance.  \n",
    "  **ModelCardArn:**  \n",
    "  `arn:aws:sagemaker:us-east-1:301806113644:model-card/FacialExpressionAnalysis-Card`\n",
    "\n",
    "---\n",
    "\n",
    "**CI/CD Automation Note:**  \n",
    "These steps were performed entirely by script, enabling this workflow to be integrated into a CI/CD pipeline (such as a scheduled job, GitHub Actions, or AWS CodePipeline).  \n",
    "By registering models and model cards programmatically, we ensure every new model version is:\n",
    "- Registered, versioned, and auditable\n",
    "- Documented with transparent evaluation and intended use\n",
    "- Governed according to MLOps best practices\n",
    "\n",
    "This approach meets industry standards for reproducible and automated machine learning operations."
   ]
  }
 ],
 "metadata": {
  "colab": {
   "provenance": []
  },
  "kernelspec": {
   "display_name": "Python 3 (ipykernel)",
   "language": "python",
   "name": "python3"
  },
  "language_info": {
   "codemirror_mode": {
    "name": "ipython",
    "version": 3
   },
   "file_extension": ".py",
   "mimetype": "text/x-python",
   "name": "python",
   "nbconvert_exporter": "python",
   "pygments_lexer": "ipython3",
   "version": "3.12.9"
  }
 },
 "nbformat": 4,
 "nbformat_minor": 4
}
