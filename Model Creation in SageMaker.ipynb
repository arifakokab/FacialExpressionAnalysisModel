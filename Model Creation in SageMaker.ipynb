{
 "cells": [
  {
   "cell_type": "code",
   "execution_count": 4,
   "id": "6572a705-c8d5-460c-94ac-ba447ce3c95e",
   "metadata": {
    "execution": {
     "iopub.execute_input": "2025-06-22T04:15:43.801713Z",
     "iopub.status.busy": "2025-06-22T04:15:43.801108Z",
     "iopub.status.idle": "2025-06-22T04:15:43.847871Z",
     "shell.execute_reply": "2025-06-22T04:15:43.847142Z",
     "shell.execute_reply.started": "2025-06-22T04:15:43.801683Z"
    }
   },
   "outputs": [],
   "source": [
    "from sagemaker.pytorch import PyTorchModel\n",
    "from sagemaker import get_execution_role\n",
    "import sagemaker\n",
    "\n",
    "role = get_execution_role()\n",
    "sess = sagemaker.Session()\n",
    "\n",
    "model = PyTorchModel(\n",
    "    entry_point='inference.py',\n",
    "    model_data='s3://sagemaker-us-east-1-877305355343/mobV2_model.tar.gz',\n",
    "    role=role,\n",
    "    framework_version='1.9.1',\n",
    "    py_version='py38',\n",
    ")"
   ]
  },
  {
   "cell_type": "code",
   "execution_count": 5,
   "id": "99f930e9-8bfa-4246-a967-f66e05b757c2",
   "metadata": {
    "execution": {
     "iopub.execute_input": "2025-06-22T04:16:25.554142Z",
     "iopub.status.busy": "2025-06-22T04:16:25.553814Z",
     "iopub.status.idle": "2025-06-22T04:16:25.558398Z",
     "shell.execute_reply": "2025-06-22T04:16:25.557462Z",
     "shell.execute_reply.started": "2025-06-22T04:16:25.554117Z"
    }
   },
   "outputs": [
    {
     "name": "stdout",
     "output_type": "stream",
     "text": [
      "<sagemaker.pytorch.model.PyTorchModel object at 0x7f05241342f0>\n"
     ]
    }
   ],
   "source": [
    "print(model)"
   ]
  },
  {
   "cell_type": "code",
   "execution_count": null,
   "id": "d59ad9d6-07a1-4fba-9613-e2cf6d29fe59",
   "metadata": {},
   "outputs": [],
   "source": []
  }
 ],
 "metadata": {
  "kernelspec": {
   "display_name": "Python 3 (ipykernel)",
   "language": "python",
   "name": "python3"
  },
  "language_info": {
   "codemirror_mode": {
    "name": "ipython",
    "version": 3
   },
   "file_extension": ".py",
   "mimetype": "text/x-python",
   "name": "python",
   "nbconvert_exporter": "python",
   "pygments_lexer": "ipython3",
   "version": "3.12.9"
  }
 },
 "nbformat": 4,
 "nbformat_minor": 5
}
