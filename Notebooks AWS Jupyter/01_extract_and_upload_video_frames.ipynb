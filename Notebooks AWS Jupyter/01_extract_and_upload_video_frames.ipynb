{
 "cells": [
  {
   "cell_type": "code",
   "execution_count": 1,
   "id": "e0d10e00-c1da-461a-b831-62706a79f63d",
   "metadata": {
    "execution": {
     "iopub.execute_input": "2025-06-22T04:35:25.265423Z",
     "iopub.status.busy": "2025-06-22T04:35:25.264416Z",
     "iopub.status.idle": "2025-06-22T04:35:25.955922Z",
     "shell.execute_reply": "2025-06-22T04:35:25.954787Z",
     "shell.execute_reply.started": "2025-06-22T04:35:25.265394Z"
    }
   },
   "outputs": [],
   "source": [
    "import boto3\n",
    "\n",
    "s3 = boto3.client(\"s3\")\n",
    "bucket_name = \"sagemaker-us-east-1-877305355343\"\n",
    "s3.download_file(bucket_name, \"videos/WIN_20250616_17_16_29_Pro.mp4\", \"WIN_20250616_17_16_29_Pro.mp4\")"
   ]
  },
  {
   "cell_type": "code",
   "execution_count": 2,
   "id": "e9b084be-c466-4c67-9668-267a3a8a39bb",
   "metadata": {
    "execution": {
     "iopub.execute_input": "2025-06-22T04:35:51.457135Z",
     "iopub.status.busy": "2025-06-22T04:35:51.456336Z",
     "iopub.status.idle": "2025-06-22T04:36:05.556518Z",
     "shell.execute_reply": "2025-06-22T04:36:05.555685Z",
     "shell.execute_reply.started": "2025-06-22T04:35:51.457107Z"
    }
   },
   "outputs": [
    {
     "name": "stdout",
     "output_type": "stream",
     "text": [
      "✓ 19 frames extracted to 'video_frames'\n"
     ]
    }
   ],
   "source": [
    "import cv2\n",
    "import os\n",
    "\n",
    "video_path = \"WIN_20250616_17_16_29_Pro.mp4\"\n",
    "output_dir = \"video_frames\"\n",
    "os.makedirs(output_dir, exist_ok=True)\n",
    "\n",
    "cap = cv2.VideoCapture(video_path)\n",
    "frame_rate = 1  # Extract 1 frame per second\n",
    "frame_count = 0\n",
    "saved_count = 0\n",
    "\n",
    "while cap.isOpened():\n",
    "    ret, frame = cap.read()\n",
    "    if not ret:\n",
    "        break\n",
    "    if int(cap.get(cv2.CAP_PROP_POS_FRAMES)) % int(cap.get(cv2.CAP_PROP_FPS) * frame_rate) == 0:\n",
    "        frame_filename = os.path.join(output_dir, f\"frame_{saved_count:04d}.jpg\")\n",
    "        cv2.imwrite(frame_filename, frame)\n",
    "        saved_count += 1\n",
    "cap.release()\n",
    "\n",
    "print(f\"✓ {saved_count} frames extracted to '{output_dir}'\")"
   ]
  },
  {
   "cell_type": "code",
   "execution_count": 3,
   "id": "415efbaf-c18a-4c91-af38-9054b9055664",
   "metadata": {
    "execution": {
     "iopub.execute_input": "2025-06-22T04:36:29.535470Z",
     "iopub.status.busy": "2025-06-22T04:36:29.535129Z",
     "iopub.status.idle": "2025-06-22T04:36:31.468515Z",
     "shell.execute_reply": "2025-06-22T04:36:31.467692Z",
     "shell.execute_reply.started": "2025-06-22T04:36:29.535439Z"
    }
   },
   "outputs": [
    {
     "name": "stdout",
     "output_type": "stream",
     "text": [
      "✓ All frames uploaded to S3.\n"
     ]
    }
   ],
   "source": [
    "import boto3\n",
    "import os\n",
    "\n",
    "s3 = boto3.client('s3')\n",
    "bucket_name = 'sagemaker-us-east-1-877305355343'\n",
    "s3_prefix = 'batch_input/'\n",
    "\n",
    "for filename in os.listdir(output_dir):\n",
    "    if filename.endswith(\".jpg\"):\n",
    "        local_path = os.path.join(output_dir, filename)\n",
    "        s3.upload_file(local_path, bucket_name, s3_prefix + filename)\n",
    "\n",
    "print(\"✓ All frames uploaded to S3.\")"
   ]
  },
  {
   "cell_type": "code",
   "execution_count": null,
   "id": "43b83d3b-3345-4114-818e-64cc9764bb24",
   "metadata": {},
   "outputs": [],
   "source": []
  }
 ],
 "metadata": {
  "kernelspec": {
   "display_name": "Python 3 (ipykernel)",
   "language": "python",
   "name": "python3"
  },
  "language_info": {
   "codemirror_mode": {
    "name": "ipython",
    "version": 3
   },
   "file_extension": ".py",
   "mimetype": "text/x-python",
   "name": "python",
   "nbconvert_exporter": "python",
   "pygments_lexer": "ipython3",
   "version": "3.12.9"
  }
 },
 "nbformat": 4,
 "nbformat_minor": 5
}
