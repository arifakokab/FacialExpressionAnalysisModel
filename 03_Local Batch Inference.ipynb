{
 "cells": [
  {
   "cell_type": "code",
   "execution_count": 5,
   "id": "2dfa326c-08f5-4dab-b817-9c1fdf530b27",
   "metadata": {
    "execution": {
     "iopub.execute_input": "2025-06-22T05:04:01.107275Z",
     "iopub.status.busy": "2025-06-22T05:04:01.106905Z",
     "iopub.status.idle": "2025-06-22T05:04:02.405223Z",
     "shell.execute_reply": "2025-06-22T05:04:02.404159Z",
     "shell.execute_reply.started": "2025-06-22T05:04:01.107245Z"
    }
   },
   "outputs": [
    {
     "name": "stdout",
     "output_type": "stream",
     "text": [
      "✓ Model loaded successfully\n"
     ]
    }
   ],
   "source": [
    "import os\n",
    "import torch\n",
    "import torchvision.transforms as transforms\n",
    "from PIL import Image\n",
    "import pandas as pd\n",
    "from torchvision import models\n",
    "import torch.nn as nn\n",
    "\n",
    "device = torch.device(\"cuda\" if torch.cuda.is_available() else \"cpu\")\n",
    "\n",
    "# Load full model object \n",
    "model = torch.load(\"mobV2_full.pth\", map_location=device, weights_only=False)\n",
    "\n",
    "model = model.to(device)\n",
    "model.eval()\n",
    "\n",
    "print(\"✓ Model loaded successfully\")"
   ]
  },
  {
   "cell_type": "code",
   "execution_count": 6,
   "id": "779355d9-a592-47c0-82d0-0c94e6408bc3",
   "metadata": {
    "execution": {
     "iopub.execute_input": "2025-06-22T05:08:26.881536Z",
     "iopub.status.busy": "2025-06-22T05:08:26.881258Z",
     "iopub.status.idle": "2025-06-22T05:08:28.386785Z",
     "shell.execute_reply": "2025-06-22T05:08:28.386066Z",
     "shell.execute_reply.started": "2025-06-22T05:08:26.881515Z"
    }
   },
   "outputs": [
    {
     "name": "stdout",
     "output_type": "stream",
     "text": [
      "✓ Inference complete. Results saved to 'emotion_predictions_with_timestamps.csv'\n"
     ]
    }
   ],
   "source": [
    "import os\n",
    "import torch\n",
    "import torchvision.transforms as transforms\n",
    "from PIL import Image\n",
    "import pandas as pd\n",
    "from datetime import timedelta\n",
    "\n",
    "# Define path to frames\n",
    "frame_dir = \"video_frames\"\n",
    "\n",
    "# Define class labels in order used by the model\n",
    "emotion_labels = ['Neutral', 'Happiness', 'Surprise', 'Sadness', 'Anger', 'Disgust', 'Fear']\n",
    "\n",
    "# Image preprocessing pipeline \n",
    "transform = transforms.Compose([\n",
    "    transforms.Resize((224, 224)),\n",
    "    transforms.ToTensor(),\n",
    "    transforms.Normalize(mean=[0.485, 0.456, 0.406],\n",
    "                         std=[0.229, 0.224, 0.225])\n",
    "])\n",
    "\n",
    "results = []\n",
    "\n",
    "# Loop through frames\n",
    "for idx, frame_file in enumerate(sorted(os.listdir(frame_dir))):\n",
    "    if frame_file.endswith(\".jpg\"):\n",
    "        img_path = os.path.join(frame_dir, frame_file)\n",
    "        image = Image.open(img_path).convert(\"RGB\")\n",
    "        input_tensor = transform(image).unsqueeze(0).to(device)\n",
    "\n",
    "        with torch.no_grad():\n",
    "            output = model(input_tensor)\n",
    "            predicted_class = torch.argmax(output, dim=1).item()\n",
    "            predicted_label = emotion_labels[predicted_class]\n",
    "\n",
    "        # Create timestamp (since 1 frame per second, index = seconds)\n",
    "        timestamp = str(timedelta(seconds=idx))  # e.g. \"0:00:05\"\n",
    "\n",
    "        results.append({\n",
    "            \"frame\": frame_file,\n",
    "            \"timestamp\": timestamp,\n",
    "            \"emotion\": predicted_label\n",
    "        })\n",
    "\n",
    "# Save results to CSV\n",
    "df = pd.DataFrame(results)\n",
    "df.to_csv(\"emotion_predictions_with_timestamps.csv\", index=False)\n",
    "\n",
    "print(\"✓ Inference complete. Results saved to 'emotion_predictions_with_timestamps.csv'\")"
   ]
  },
  {
   "cell_type": "code",
   "execution_count": 7,
   "id": "9f1b1173-fe83-4bc1-bc34-baf6b3bbcc4c",
   "metadata": {
    "execution": {
     "iopub.execute_input": "2025-06-22T05:11:50.129978Z",
     "iopub.status.busy": "2025-06-22T05:11:50.129573Z",
     "iopub.status.idle": "2025-06-22T05:11:50.138817Z",
     "shell.execute_reply": "2025-06-22T05:11:50.138147Z",
     "shell.execute_reply.started": "2025-06-22T05:11:50.129943Z"
    }
   },
   "outputs": [],
   "source": [
    "import pandas as pd\n",
    "\n",
    "df = pd.read_csv(\"emotion_predictions_with_timestamps.csv\")"
   ]
  },
  {
   "cell_type": "code",
   "execution_count": 8,
   "id": "f72d20c1-c1e7-4139-a80d-82c718939cbc",
   "metadata": {
    "execution": {
     "iopub.execute_input": "2025-06-22T05:12:02.272828Z",
     "iopub.status.busy": "2025-06-22T05:12:02.272386Z",
     "iopub.status.idle": "2025-06-22T05:12:02.296023Z",
     "shell.execute_reply": "2025-06-22T05:12:02.295042Z",
     "shell.execute_reply.started": "2025-06-22T05:12:02.272804Z"
    }
   },
   "outputs": [
    {
     "data": {
      "text/html": [
       "<div>\n",
       "<style scoped>\n",
       "    .dataframe tbody tr th:only-of-type {\n",
       "        vertical-align: middle;\n",
       "    }\n",
       "\n",
       "    .dataframe tbody tr th {\n",
       "        vertical-align: top;\n",
       "    }\n",
       "\n",
       "    .dataframe thead th {\n",
       "        text-align: right;\n",
       "    }\n",
       "</style>\n",
       "<table border=\"1\" class=\"dataframe\">\n",
       "  <thead>\n",
       "    <tr style=\"text-align: right;\">\n",
       "      <th></th>\n",
       "      <th>frame</th>\n",
       "      <th>timestamp</th>\n",
       "      <th>emotion</th>\n",
       "    </tr>\n",
       "  </thead>\n",
       "  <tbody>\n",
       "    <tr>\n",
       "      <th>0</th>\n",
       "      <td>frame_0000.jpg</td>\n",
       "      <td>0:00:00</td>\n",
       "      <td>Anger</td>\n",
       "    </tr>\n",
       "    <tr>\n",
       "      <th>1</th>\n",
       "      <td>frame_0001.jpg</td>\n",
       "      <td>0:00:01</td>\n",
       "      <td>Anger</td>\n",
       "    </tr>\n",
       "    <tr>\n",
       "      <th>2</th>\n",
       "      <td>frame_0002.jpg</td>\n",
       "      <td>0:00:02</td>\n",
       "      <td>Anger</td>\n",
       "    </tr>\n",
       "    <tr>\n",
       "      <th>3</th>\n",
       "      <td>frame_0003.jpg</td>\n",
       "      <td>0:00:03</td>\n",
       "      <td>Anger</td>\n",
       "    </tr>\n",
       "    <tr>\n",
       "      <th>4</th>\n",
       "      <td>frame_0004.jpg</td>\n",
       "      <td>0:00:04</td>\n",
       "      <td>Anger</td>\n",
       "    </tr>\n",
       "    <tr>\n",
       "      <th>5</th>\n",
       "      <td>frame_0005.jpg</td>\n",
       "      <td>0:00:05</td>\n",
       "      <td>Anger</td>\n",
       "    </tr>\n",
       "    <tr>\n",
       "      <th>6</th>\n",
       "      <td>frame_0006.jpg</td>\n",
       "      <td>0:00:06</td>\n",
       "      <td>Anger</td>\n",
       "    </tr>\n",
       "    <tr>\n",
       "      <th>7</th>\n",
       "      <td>frame_0007.jpg</td>\n",
       "      <td>0:00:07</td>\n",
       "      <td>Anger</td>\n",
       "    </tr>\n",
       "    <tr>\n",
       "      <th>8</th>\n",
       "      <td>frame_0008.jpg</td>\n",
       "      <td>0:00:08</td>\n",
       "      <td>Anger</td>\n",
       "    </tr>\n",
       "    <tr>\n",
       "      <th>9</th>\n",
       "      <td>frame_0009.jpg</td>\n",
       "      <td>0:00:09</td>\n",
       "      <td>Anger</td>\n",
       "    </tr>\n",
       "    <tr>\n",
       "      <th>10</th>\n",
       "      <td>frame_0010.jpg</td>\n",
       "      <td>0:00:10</td>\n",
       "      <td>Anger</td>\n",
       "    </tr>\n",
       "    <tr>\n",
       "      <th>11</th>\n",
       "      <td>frame_0011.jpg</td>\n",
       "      <td>0:00:11</td>\n",
       "      <td>Anger</td>\n",
       "    </tr>\n",
       "    <tr>\n",
       "      <th>12</th>\n",
       "      <td>frame_0012.jpg</td>\n",
       "      <td>0:00:12</td>\n",
       "      <td>Anger</td>\n",
       "    </tr>\n",
       "    <tr>\n",
       "      <th>13</th>\n",
       "      <td>frame_0013.jpg</td>\n",
       "      <td>0:00:13</td>\n",
       "      <td>Anger</td>\n",
       "    </tr>\n",
       "    <tr>\n",
       "      <th>14</th>\n",
       "      <td>frame_0014.jpg</td>\n",
       "      <td>0:00:14</td>\n",
       "      <td>Anger</td>\n",
       "    </tr>\n",
       "    <tr>\n",
       "      <th>15</th>\n",
       "      <td>frame_0015.jpg</td>\n",
       "      <td>0:00:15</td>\n",
       "      <td>Anger</td>\n",
       "    </tr>\n",
       "    <tr>\n",
       "      <th>16</th>\n",
       "      <td>frame_0016.jpg</td>\n",
       "      <td>0:00:16</td>\n",
       "      <td>Anger</td>\n",
       "    </tr>\n",
       "    <tr>\n",
       "      <th>17</th>\n",
       "      <td>frame_0017.jpg</td>\n",
       "      <td>0:00:17</td>\n",
       "      <td>Anger</td>\n",
       "    </tr>\n",
       "    <tr>\n",
       "      <th>18</th>\n",
       "      <td>frame_0018.jpg</td>\n",
       "      <td>0:00:18</td>\n",
       "      <td>Anger</td>\n",
       "    </tr>\n",
       "  </tbody>\n",
       "</table>\n",
       "</div>"
      ],
      "text/plain": [
       "             frame timestamp emotion\n",
       "0   frame_0000.jpg   0:00:00   Anger\n",
       "1   frame_0001.jpg   0:00:01   Anger\n",
       "2   frame_0002.jpg   0:00:02   Anger\n",
       "3   frame_0003.jpg   0:00:03   Anger\n",
       "4   frame_0004.jpg   0:00:04   Anger\n",
       "5   frame_0005.jpg   0:00:05   Anger\n",
       "6   frame_0006.jpg   0:00:06   Anger\n",
       "7   frame_0007.jpg   0:00:07   Anger\n",
       "8   frame_0008.jpg   0:00:08   Anger\n",
       "9   frame_0009.jpg   0:00:09   Anger\n",
       "10  frame_0010.jpg   0:00:10   Anger\n",
       "11  frame_0011.jpg   0:00:11   Anger\n",
       "12  frame_0012.jpg   0:00:12   Anger\n",
       "13  frame_0013.jpg   0:00:13   Anger\n",
       "14  frame_0014.jpg   0:00:14   Anger\n",
       "15  frame_0015.jpg   0:00:15   Anger\n",
       "16  frame_0016.jpg   0:00:16   Anger\n",
       "17  frame_0017.jpg   0:00:17   Anger\n",
       "18  frame_0018.jpg   0:00:18   Anger"
      ]
     },
     "metadata": {},
     "output_type": "display_data"
    }
   ],
   "source": [
    "from IPython.display import display\n",
    "\n",
    "display(df)"
   ]
  },
  {
   "cell_type": "code",
   "execution_count": 9,
   "id": "8f430069-edfe-4897-8740-c17bf2be65e7",
   "metadata": {
    "execution": {
     "iopub.execute_input": "2025-06-22T05:19:48.991052Z",
     "iopub.status.busy": "2025-06-22T05:19:48.990636Z",
     "iopub.status.idle": "2025-06-22T05:19:50.267836Z",
     "shell.execute_reply": "2025-06-22T05:19:50.267216Z",
     "shell.execute_reply.started": "2025-06-22T05:19:48.991030Z"
    }
   },
   "outputs": [
    {
     "data": {
      "image/png": "[encoded data removed]",
      "text/plain": [
       "<Figure size 640x480 with 1 Axes>"
      ]
     },
     "metadata": {},
     "output_type": "display_data"
    }
   ],
   "source": [
    "import matplotlib.pyplot as plt\n",
    "\n",
    "emotion_counts = df['emotion'].value_counts()\n",
    "emotion_counts.plot(kind='bar', title=\"Distribution of Predicted Emotions\")\n",
    "plt.xlabel(\"Emotion\")\n",
    "plt.ylabel(\"Count\")\n",
    "plt.show()"
   ]
  },
  {
   "cell_type": "code",
   "execution_count": null,
   "id": "215395f7-a0fb-41da-8422-adefbee3fc5b",
   "metadata": {},
   "outputs": [],
   "source": []
  }
 ],
 "metadata": {
  "kernelspec": {
   "display_name": "Python 3 (ipykernel)",
   "language": "python",
   "name": "python3"
  },
  "language_info": {
   "codemirror_mode": {
    "name": "ipython",
    "version": 3
   },
   "file_extension": ".py",
   "mimetype": "text/x-python",
   "name": "python",
   "nbconvert_exporter": "python",
   "pygments_lexer": "ipython3",
   "version": "3.12.9"
  }
 },
 "nbformat": 4,
 "nbformat_minor": 5
}
